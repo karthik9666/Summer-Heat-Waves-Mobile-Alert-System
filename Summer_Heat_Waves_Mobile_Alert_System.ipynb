{
  "cells": [
    {
      "cell_type": "code",
      "execution_count": null,
      "id": "a6bc64df",
      "metadata": {
        "id": "a6bc64df",
        "outputId": "24926e3e-fd4e-4b51-9dce-6a4229facc85"
      },
      "outputs": [
        {
          "name": "stdout",
          "output_type": "stream",
          "text": [
            "Alert: Heat wave alert: High temperature detected. Start Date: 2022-01-10 00:00:00 End Date: 2022-01-10 00:00:00\n",
            "Alert: Heat wave alert: High temperature detected. Start Date: 2022-01-18 00:00:00 End Date: 2022-01-18 00:00:00\n",
            "Alert: Heat wave alert: High temperature detected. Start Date: 2022-01-20 00:00:00 End Date: 2022-01-20 00:00:00\n",
            "Alert: Heat wave alert: High temperature detected. Start Date: 2022-01-26 00:00:00 End Date: 2022-01-26 00:00:00\n",
            "Alert: Heat wave alert: High temperature detected. Start Date: 2022-02-03 00:00:00 End Date: 2022-02-03 00:00:00\n",
            "Alert: Heat wave alert: High temperature detected. Start Date: 2022-02-06 00:00:00 End Date: 2022-02-06 00:00:00\n",
            "Alert: Heat wave alert: High temperature detected. Start Date: 2022-03-01 00:00:00 End Date: 2022-03-01 00:00:00\n",
            "Alert: Heat wave alert: High temperature detected. Start Date: 2022-03-05 00:00:00 End Date: 2022-03-05 00:00:00\n",
            "Alert: Heat wave alert: High temperature detected. Start Date: 2022-03-14 00:00:00 End Date: 2022-03-14 00:00:00\n",
            "Alert: Heat wave alert: High temperature detected. Start Date: 2022-03-25 00:00:00 End Date: 2022-03-25 00:00:00\n",
            "Alert: Heat wave alert: High temperature detected. Start Date: 2022-03-30 00:00:00 End Date: 2022-03-30 00:00:00\n",
            "Alert: Heat wave alert: High temperature detected. Start Date: 2022-04-07 00:00:00 End Date: 2022-04-07 00:00:00\n",
            "Alert: Heat wave alert: High temperature detected. Start Date: 2022-04-11 00:00:00 End Date: 2022-04-12 00:00:00\n",
            "Alert: Heat wave alert: High temperature detected. Start Date: 2022-04-14 00:00:00 End Date: 2022-04-14 00:00:00\n",
            "Alert: Heat wave alert: High temperature detected. Start Date: 2022-04-22 00:00:00 End Date: 2022-04-22 00:00:00\n",
            "Alert: Heat wave alert: High temperature detected. Start Date: 2022-04-25 00:00:00 End Date: 2022-04-25 00:00:00\n",
            "Alert: Heat wave alert: High temperature detected. Start Date: 2022-05-05 00:00:00 End Date: 2022-05-06 00:00:00\n",
            "Alert: Heat wave alert: High temperature detected. Start Date: 2022-05-14 00:00:00 End Date: 2022-05-14 00:00:00\n",
            "Alert: Heat wave alert: High temperature detected. Start Date: 2022-05-17 00:00:00 End Date: 2022-05-18 00:00:00\n",
            "Alert: Heat wave alert: High temperature detected. Start Date: 2022-05-30 00:00:00 End Date: 2022-05-30 00:00:00\n",
            "Alert: Heat wave alert: High temperature detected. Start Date: 2022-06-14 00:00:00 End Date: 2022-06-14 00:00:00\n",
            "Alert: Heat wave alert: High temperature detected. Start Date: 2022-06-17 00:00:00 End Date: 2022-06-17 00:00:00\n",
            "Alert: Heat wave alert: High temperature detected. Start Date: 2022-06-21 00:00:00 End Date: 2022-06-22 00:00:00\n",
            "Alert: Heat wave alert: High temperature detected. Start Date: 2022-07-05 00:00:00 End Date: 2022-07-06 00:00:00\n",
            "Alert: Heat wave alert: High temperature detected. Start Date: 2022-07-13 00:00:00 End Date: 2022-07-13 00:00:00\n",
            "Alert: Heat wave alert: High temperature detected. Start Date: 2022-07-18 00:00:00 End Date: 2022-07-18 00:00:00\n",
            "Alert: Heat wave alert: High temperature detected. Start Date: 2022-07-23 00:00:00 End Date: 2022-07-23 00:00:00\n",
            "Alert: Heat wave alert: High temperature detected. Start Date: 2022-08-13 00:00:00 End Date: 2022-08-14 00:00:00\n",
            "Alert: Heat wave alert: High temperature detected. Start Date: 2022-08-16 00:00:00 End Date: 2022-08-16 00:00:00\n",
            "Alert: Heat wave alert: High temperature detected. Start Date: 2022-08-18 00:00:00 End Date: 2022-08-18 00:00:00\n",
            "Alert: Heat wave alert: High temperature detected. Start Date: 2022-08-22 00:00:00 End Date: 2022-08-22 00:00:00\n",
            "Alert: Heat wave alert: High temperature detected. Start Date: 2022-08-29 00:00:00 End Date: 2022-08-30 00:00:00\n",
            "Alert: Heat wave alert: High temperature detected. Start Date: 2022-09-12 00:00:00 End Date: 2022-09-12 00:00:00\n",
            "Alert: Heat wave alert: High temperature detected. Start Date: 2022-09-14 00:00:00 End Date: 2022-09-15 00:00:00\n",
            "Alert: Heat wave alert: High temperature detected. Start Date: 2022-09-23 00:00:00 End Date: 2022-09-23 00:00:00\n",
            "Alert: Heat wave alert: High temperature detected. Start Date: 2022-09-26 00:00:00 End Date: 2022-09-26 00:00:00\n",
            "Alert: Heat wave alert: High temperature detected. Start Date: 2022-10-24 00:00:00 End Date: 2022-10-24 00:00:00\n",
            "Alert: Heat wave alert: High temperature detected. Start Date: 2022-11-01 00:00:00 End Date: 2022-11-02 00:00:00\n",
            "Alert: Heat wave alert: High temperature detected. Start Date: 2022-11-21 00:00:00 End Date: 2022-11-21 00:00:00\n",
            "Alert: Heat wave alert: High temperature detected. Start Date: 2022-11-23 00:00:00 End Date: 2022-11-23 00:00:00\n",
            "Alert: Heat wave alert: High temperature detected. Start Date: 2022-11-25 00:00:00 End Date: 2022-11-25 00:00:00\n",
            "Alert: Heat wave alert: High temperature detected. Start Date: 2022-11-27 00:00:00 End Date: 2022-11-27 00:00:00\n",
            "Alert: Heat wave alert: High temperature detected. Start Date: 2022-12-10 00:00:00 End Date: 2022-12-10 00:00:00\n",
            "Alert: Heat wave alert: High temperature detected. Start Date: 2022-12-13 00:00:00 End Date: 2022-12-13 00:00:00\n",
            "Alert: Heat wave alert: High temperature detected. Start Date: 2022-12-19 00:00:00 End Date: 2022-12-19 00:00:00\n",
            "Alert: Heat wave alert: High temperature detected. Start Date: 2022-12-21 00:00:00 End Date: 2022-12-21 00:00:00\n"
          ]
        }
      ],
      "source": [
        "import pandas as pd\n",
        "import numpy as np\n",
        "from datetime import datetime, timedelta\n",
        "\n",
        "# Sample historical weather data (dummy data)\n",
        "data = {\n",
        "    'date': pd.date_range(start='2022-01-01', periods=365),\n",
        "    'temperature': np.random.uniform(10, 40, 365)  # Random temperature values for illustration\n",
        "}\n",
        "\n",
        "df = pd.DataFrame(data)\n",
        "\n",
        "# Define a function to generate alerts based on temperature thresholds\n",
        "def generate_heat_wave_alerts(df, threshold_temp):\n",
        "    alerts = []\n",
        "    heat_wave_started = False\n",
        "    heat_wave_start_date = None\n",
        "\n",
        "    for index, row in df.iterrows():\n",
        "        if row['temperature'] >= threshold_temp:\n",
        "            if not heat_wave_started:\n",
        "                heat_wave_start_date = row['date']\n",
        "                heat_wave_started = True\n",
        "        else:\n",
        "            if heat_wave_started:\n",
        "                heat_wave_end_date = row['date'] - timedelta(days=1)\n",
        "                alerts.append({\n",
        "                    'start_date': heat_wave_start_date,\n",
        "                    'end_date': heat_wave_end_date,\n",
        "                    'severity': 'High',  # Placeholder for severity level based on criteria\n",
        "                    'message': 'Heat wave alert: High temperature detected.'\n",
        "                })\n",
        "                heat_wave_started = False\n",
        "\n",
        "    return alerts\n",
        "\n",
        "# Example usage\n",
        "if __name__ == \"__main__\":\n",
        "    threshold_temperature = 35  # Example threshold temperature (adjust as needed)\n",
        "\n",
        "    alerts = generate_heat_wave_alerts(df, threshold_temperature)\n",
        "\n",
        "    # Print alerts (in real application, you would send alerts to a mobile platform)\n",
        "    for alert in alerts:\n",
        "        print(f\"Alert: {alert['message']} Start Date: {alert['start_date']} End Date: {alert['end_date']}\")\n"
      ]
    },
    {
      "cell_type": "code",
      "execution_count": null,
      "id": "673308d4",
      "metadata": {
        "id": "673308d4"
      },
      "outputs": [],
      "source": []
    }
  ],
  "metadata": {
    "kernelspec": {
      "display_name": "Python 3 (ipykernel)",
      "language": "python",
      "name": "python3"
    },
    "language_info": {
      "codemirror_mode": {
        "name": "ipython",
        "version": 3
      },
      "file_extension": ".py",
      "mimetype": "text/x-python",
      "name": "python",
      "nbconvert_exporter": "python",
      "pygments_lexer": "ipython3",
      "version": "3.11.3"
    },
    "colab": {
      "provenance": []
    }
  },
  "nbformat": 4,
  "nbformat_minor": 5
}